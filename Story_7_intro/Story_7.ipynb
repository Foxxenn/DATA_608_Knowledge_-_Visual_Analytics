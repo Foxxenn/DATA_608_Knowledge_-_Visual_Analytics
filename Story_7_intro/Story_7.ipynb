{
 "cells": [
  {
   "cell_type": "markdown",
   "id": "7c0fde5b",
   "metadata": {},
   "source": [
    "### Joe Garcia\n",
    "### DATA 608 \n",
    "### 5/5/2024\n",
    "\n",
    "# Introduction\n",
    "\n",
    "The US Geological Survey publishes a list of Strategic Minerals ( https://www.usgs.gov/news/national-news-release/us-geological-survey-releases-2022-list-critical-minerals ). Having a secure supply of these minerals is essential to our security and economic prosperity. However many of these minerals are sourced from outside of the US. This assignment is to develop a reference catalog of the source or sources of each of these minerals and a judgement on the reliability of each source under stressed circumstance (e.g. war, economic crisis, etc.)\n",
    "Notes:\n",
    "You will need to identify a source or sources for each of the minerals in the 2022 List of Critical Minerals\n",
    "\n",
    "You will need to categorize each source country as an ally, a competitor or a neutral party.\n",
    "\n",
    "You will need to develop data visualizations that tell the story of source dependency and shortfall impact.\n",
    "\n",
    "This assignment is due at the end of week fourteen of the semester"
   ]
  },
  {
   "cell_type": "markdown",
   "id": "5a8cfbee",
   "metadata": {},
   "source": [
    "# Questions Posed:"
   ]
  },
  {
   "cell_type": "markdown",
   "id": "ed6040d2",
   "metadata": {},
   "source": [
    "# Data Used and Sources"
   ]
  },
  {
   "cell_type": "markdown",
   "id": "ea9c09dd",
   "metadata": {},
   "source": [
    "# Analyzation"
   ]
  },
  {
   "cell_type": "markdown",
   "id": "8de68795",
   "metadata": {},
   "source": [
    "# Conclusion"
   ]
  },
  {
   "cell_type": "markdown",
   "id": "9d5df642",
   "metadata": {},
   "source": []
  }
 ],
 "metadata": {
  "kernelspec": {
   "display_name": "Python 3 (ipykernel)",
   "language": "python",
   "name": "python3"
  },
  "language_info": {
   "codemirror_mode": {
    "name": "ipython",
    "version": 3
   },
   "file_extension": ".py",
   "mimetype": "text/x-python",
   "name": "python",
   "nbconvert_exporter": "python",
   "pygments_lexer": "ipython3",
   "version": "3.11.4"
  }
 },
 "nbformat": 4,
 "nbformat_minor": 5
}
