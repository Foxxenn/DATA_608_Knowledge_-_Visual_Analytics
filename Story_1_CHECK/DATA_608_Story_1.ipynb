{
 "cells": [
  {
   "cell_type": "markdown",
   "id": "123bc0bc",
   "metadata": {},
   "source": [
    "## Joe Garcia\n",
    "## DATA 608 Knowledge and Visual Analytics\n",
    "## Feb 4 2024\n",
    "## Prof: Peter Kowalchuk\n"
   ]
  },
  {
   "cell_type": "markdown",
   "id": "51f251b5",
   "metadata": {},
   "source": [
    "# Introduction"
   ]
  },
  {
   "cell_type": "markdown",
   "id": "d6ed2b9b",
   "metadata": {},
   "source": [
    "The attached Excel file contains data on the present allocation of the Infrastructure Investment and Jobs Act funding by State and Territory.\n",
    "Your story (Data Visualization(s) ) should address the following questions:\n",
    "Is the allocation equitable based on the population of each of the States and Territories, or is bias apparent?\n",
    "\n",
    "Does the allocation favor the political interests of the Biden administration?\n",
    "Notes:\n",
    "You will need to source data on the current (estimated) population of each of the States and Territories (accuracy is more important than precision) and on the official election results of the 2020 Presidential election.\n",
    "\n",
    "You may choose to develop you visualizations using a desktop application or a code library. Your submittal should be in the form of a report (document) or a presentation.\n",
    "\n",
    "This assignment is due by the end of week two of the semester."
   ]
  },
  {
   "cell_type": "markdown",
   "id": "6ded7423",
   "metadata": {},
   "source": [
    "# Questions"
   ]
  },
  {
   "cell_type": "markdown",
   "id": "bbc8eb83",
   "metadata": {},
   "source": [
    "Is the allocation (from the Jobs Act) equitable based on the population of each of the States and Territories, or is bias apparent?\n",
    "\n",
    "Does the allocation favor the political interests of the Biden administration? "
   ]
  },
  {
   "cell_type": "markdown",
   "id": "2c468789",
   "metadata": {},
   "source": [
    "# Data Used\n",
    "\n",
    "We will be using the data from class which is an excel sheet containing Funding as of March 2023 of the Jobs Act. We also have the "
   ]
  },
  {
   "cell_type": "markdown",
   "id": "f8f21873",
   "metadata": {},
   "source": [
    "# Preparing Data"
   ]
  },
  {
   "cell_type": "markdown",
   "id": "99ba2ef2",
   "metadata": {},
   "source": [
    "# Visual Analytics"
   ]
  },
  {
   "cell_type": "markdown",
   "id": "0b6ec732",
   "metadata": {},
   "source": [
    "# Conclusion"
   ]
  },
  {
   "cell_type": "code",
   "execution_count": null,
   "id": "e4741678",
   "metadata": {},
   "outputs": [],
   "source": []
  }
 ],
 "metadata": {
  "kernelspec": {
   "display_name": "Python 3 (ipykernel)",
   "language": "python",
   "name": "python3"
  },
  "language_info": {
   "codemirror_mode": {
    "name": "ipython",
    "version": 3
   },
   "file_extension": ".py",
   "mimetype": "text/x-python",
   "name": "python",
   "nbconvert_exporter": "python",
   "pygments_lexer": "ipython3",
   "version": "3.11.4"
  }
 },
 "nbformat": 4,
 "nbformat_minor": 5
}
