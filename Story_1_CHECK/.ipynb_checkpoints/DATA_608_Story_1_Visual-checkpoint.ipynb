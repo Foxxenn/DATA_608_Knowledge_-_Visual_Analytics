{
 "cells": [
  {
   "cell_type": "markdown",
   "id": "fe07937a",
   "metadata": {},
   "source": [
    "## Joe Garcia\n",
    "## DATA 608 Knowledge and Visual Analytics\n",
    "## Feb 4 2024\n",
    "## Prof: Peter Kowalchuk\n",
    "\n",
    "# Introduction\n",
    "\n",
    "The attached Excel file contains data on the present allocation of the Infrastructure Investment and Jobs Act funding by State and Territory.\n",
    "Your story (Data Visualization(s) ) should address the following questions:\n",
    "Is the allocation equitable based on the population of each of the States and Territories, or is bias apparent?\n",
    "\n",
    "Does the allocation favor the political interests of the Biden administration?\n",
    "Notes:\n",
    "You will need to source data on the current (estimated) population of each of the States and Territories (accuracy is more important than precision) and on the official election results of the 2020 Presidential election.\n",
    "\n",
    "You may choose to develop you visualizations using a desktop application or a code library. Your submittal should be in the form of a report (document) or a presentation.\n",
    "\n",
    "This assignment is due by the end of week two of the semester.\n",
    "\n",
    "# Questions\n",
    "\n",
    "Is the allocation (from the Jobs Act) equitable based on the population of each of the States and Territories, oris bias apparent?\n",
    "\n",
    "Does the allocation favor the political interests of the Biden administration?\n",
    "\n",
    "# Data Used\n",
    "\n",
    "We will be using the data from class which is an excel sheet containing Funding as of March 2023 of the Jobs Act. We also have the population of the 50 states in 2023 with the American Census.\n",
    "\n",
    "https://www.census.gov/data/tables/time-series/demo/popest/2020s-state-total.html#v2023\n",
    "\n",
    "The Northern Mariana Islands Population in 2023 with World Population Review:\n",
    "\n",
    "https://worldpopulationreview.com/countries/northern-mariana-islands-population\n",
    "\n",
    "For Guam, Virgin Islands, and the American Samoa for the year 2021:\n",
    "\n",
    "https://datatopics.worldbank.org/world-development-indicators/\n",
    "\n",
    "The Indigenous world 2023, gave us an estimated 8 million for the Tribal Communities:\n",
    "\n",
    "https://www.iwgia.org/en/usa/5188-iw-2023-usa.html#:~:text=The%20number%20of%20Indigenous%20people,areas%20or%20Alaska%20Native%20villages.\n",
    "\n",
    "Finally, we have the 2020 Presidential voting outcome, from wikipedia:\n",
    "\n",
    "https://en.wikipedia.org/wiki/2020_United_States_presidential_election#Results_by_state\n",
    "\n"
   ]
  },
  {
   "cell_type": "markdown",
   "id": "a4d020e1",
   "metadata": {},
   "source": [
    "# Preparing Data\n",
    "\n",
    "We must import our data, I went ahead and added the 6 Territories not found in the census manullly but we still have to add the census. We added the population estimates to them already. So next we have to import necessary python libraries in order to have the appropiate  data cleaning tools.\n"
   ]
  },
  {
   "cell_type": "code",
   "execution_count": 31,
   "id": "4edccbe0",
   "metadata": {},
   "outputs": [
    {
     "data": {
      "text/html": [
       "<div>\n",
       "<style scoped>\n",
       "    .dataframe tbody tr th:only-of-type {\n",
       "        vertical-align: middle;\n",
       "    }\n",
       "\n",
       "    .dataframe tbody tr th {\n",
       "        vertical-align: top;\n",
       "    }\n",
       "\n",
       "    .dataframe thead th {\n",
       "        text-align: right;\n",
       "    }\n",
       "</style>\n",
       "<table border=\"1\" class=\"dataframe\">\n",
       "  <thead>\n",
       "    <tr style=\"text-align: right;\">\n",
       "      <th></th>\n",
       "      <th>State, Teritory or Tribal Nation</th>\n",
       "      <th>Total (Billions)</th>\n",
       "      <th>Population</th>\n",
       "      <th>Unnamed: 3</th>\n",
       "    </tr>\n",
       "  </thead>\n",
       "  <tbody>\n",
       "    <tr>\n",
       "      <th>0</th>\n",
       "      <td>ALABAMA</td>\n",
       "      <td>3.0000</td>\n",
       "      <td>NaN</td>\n",
       "      <td>No</td>\n",
       "    </tr>\n",
       "    <tr>\n",
       "      <th>1</th>\n",
       "      <td>ALASKA</td>\n",
       "      <td>3.7000</td>\n",
       "      <td>NaN</td>\n",
       "      <td>No</td>\n",
       "    </tr>\n",
       "    <tr>\n",
       "      <th>2</th>\n",
       "      <td>AMERICAN SAMOA</td>\n",
       "      <td>0.0686</td>\n",
       "      <td>45035</td>\n",
       "      <td>NaN</td>\n",
       "    </tr>\n",
       "    <tr>\n",
       "      <th>3</th>\n",
       "      <td>ARIZONA</td>\n",
       "      <td>3.5000</td>\n",
       "      <td>NaN</td>\n",
       "      <td>Biden</td>\n",
       "    </tr>\n",
       "    <tr>\n",
       "      <th>4</th>\n",
       "      <td>ARKANSAS</td>\n",
       "      <td>2.8000</td>\n",
       "      <td>NaN</td>\n",
       "      <td>No</td>\n",
       "    </tr>\n",
       "  </tbody>\n",
       "</table>\n",
       "</div>"
      ],
      "text/plain": [
       "  State, Teritory or Tribal Nation  Total (Billions) Population Unnamed: 3\n",
       "0                          ALABAMA            3.0000        NaN         No\n",
       "1                           ALASKA            3.7000        NaN         No\n",
       "2                   AMERICAN SAMOA            0.0686      45035        NaN\n",
       "3                          ARIZONA            3.5000        NaN      Biden\n",
       "4                         ARKANSAS            2.8000        NaN         No"
      ]
     },
     "execution_count": 31,
     "metadata": {},
     "output_type": "execute_result"
    }
   ],
   "source": [
    "import pandas as pd\n",
    "import matplotlib.pyplot as plt\n",
    "import seaborn as sns\n",
    "import scipy.stats as stats\n",
    "\n",
    "jobs_funding = pd.read_csv(\"/Users/joe/Downloads/IIJA_FUNDING_AS_OF_MARCH_2023_edited.csv\")\n",
    "\n",
    "us_population = pd.read_csv(\"/Users/joe/Downloads/NST-EST2023-POP.csv\")\n",
    "\n",
    "jobs_funding.head()\n"
   ]
  },
  {
   "cell_type": "markdown",
   "id": "ff541d69",
   "metadata": {},
   "source": [
    "## Getting rid of Columns and Rows\n",
    "\n",
    "Here I am finding the exact column names inorder to rename them\n",
    "\n"
   ]
  },
  {
   "cell_type": "code",
   "execution_count": 32,
   "id": "57b5eb95",
   "metadata": {},
   "outputs": [
    {
     "data": {
      "text/html": [
       "<div>\n",
       "<style scoped>\n",
       "    .dataframe tbody tr th:only-of-type {\n",
       "        vertical-align: middle;\n",
       "    }\n",
       "\n",
       "    .dataframe tbody tr th {\n",
       "        vertical-align: top;\n",
       "    }\n",
       "\n",
       "    .dataframe thead th {\n",
       "        text-align: right;\n",
       "    }\n",
       "</style>\n",
       "<table border=\"1\" class=\"dataframe\">\n",
       "  <thead>\n",
       "    <tr style=\"text-align: right;\">\n",
       "      <th></th>\n",
       "      <th>state</th>\n",
       "      <th>Total (Billions)</th>\n",
       "      <th>pop</th>\n",
       "      <th>Election</th>\n",
       "    </tr>\n",
       "  </thead>\n",
       "  <tbody>\n",
       "    <tr>\n",
       "      <th>0</th>\n",
       "      <td>ALABAMA</td>\n",
       "      <td>3.0000</td>\n",
       "      <td>NaN</td>\n",
       "      <td>No</td>\n",
       "    </tr>\n",
       "    <tr>\n",
       "      <th>1</th>\n",
       "      <td>ALASKA</td>\n",
       "      <td>3.7000</td>\n",
       "      <td>NaN</td>\n",
       "      <td>No</td>\n",
       "    </tr>\n",
       "    <tr>\n",
       "      <th>2</th>\n",
       "      <td>AMERICAN SAMOA</td>\n",
       "      <td>0.0686</td>\n",
       "      <td>45035</td>\n",
       "      <td>NaN</td>\n",
       "    </tr>\n",
       "    <tr>\n",
       "      <th>3</th>\n",
       "      <td>ARIZONA</td>\n",
       "      <td>3.5000</td>\n",
       "      <td>NaN</td>\n",
       "      <td>Biden</td>\n",
       "    </tr>\n",
       "    <tr>\n",
       "      <th>4</th>\n",
       "      <td>ARKANSAS</td>\n",
       "      <td>2.8000</td>\n",
       "      <td>NaN</td>\n",
       "      <td>No</td>\n",
       "    </tr>\n",
       "  </tbody>\n",
       "</table>\n",
       "</div>"
      ],
      "text/plain": [
       "            state  Total (Billions)    pop Election\n",
       "0         ALABAMA            3.0000    NaN       No\n",
       "1          ALASKA            3.7000    NaN       No\n",
       "2  AMERICAN SAMOA            0.0686  45035      NaN\n",
       "3         ARIZONA            3.5000    NaN    Biden\n",
       "4        ARKANSAS            2.8000    NaN       No"
      ]
     },
     "execution_count": 32,
     "metadata": {},
     "output_type": "execute_result"
    }
   ],
   "source": [
    "jobs_funding.columns\n",
    "\n",
    "jobs_funding = jobs_funding.rename(columns = {\"State, Teritory or Tribal Nation\" : \"state\", 'Population':\"pop\",'Unnamed: 3': 'Election'})\n",
    "jobs_funding.head()\n",
    "\n"
   ]
  },
  {
   "cell_type": "markdown",
   "id": "bd60f4b5",
   "metadata": {},
   "source": [
    "# I dropped the census Estimated Base, 2020, 2021,and 2022 columns, we won't be using them. We are primarily focused on 2023. Also, we drop the rows that feature anything else such as Northwest, Midwest, South, and West as well as miscellaneous information that we don't need.\n",
    "\n"
   ]
  },
  {
   "cell_type": "code",
   "execution_count": 33,
   "id": "1a5a2be0",
   "metadata": {},
   "outputs": [
    {
     "data": {
      "text/html": [
       "<div>\n",
       "<style scoped>\n",
       "    .dataframe tbody tr th:only-of-type {\n",
       "        vertical-align: middle;\n",
       "    }\n",
       "\n",
       "    .dataframe tbody tr th {\n",
       "        vertical-align: top;\n",
       "    }\n",
       "\n",
       "    .dataframe thead th {\n",
       "        text-align: right;\n",
       "    }\n",
       "</style>\n",
       "<table border=\"1\" class=\"dataframe\">\n",
       "  <thead>\n",
       "    <tr style=\"text-align: right;\">\n",
       "      <th></th>\n",
       "      <th>table with row headers in column A and column headers in rows 3 through 4. (leading dots indicate sub-parts)</th>\n",
       "      <th>Unnamed: 5</th>\n",
       "    </tr>\n",
       "  </thead>\n",
       "  <tbody>\n",
       "    <tr>\n",
       "      <th>8</th>\n",
       "      <td>.Alabama</td>\n",
       "      <td>5,108,468</td>\n",
       "    </tr>\n",
       "    <tr>\n",
       "      <th>9</th>\n",
       "      <td>.Alaska</td>\n",
       "      <td>733,406</td>\n",
       "    </tr>\n",
       "    <tr>\n",
       "      <th>10</th>\n",
       "      <td>.Arizona</td>\n",
       "      <td>7,431,344</td>\n",
       "    </tr>\n",
       "    <tr>\n",
       "      <th>11</th>\n",
       "      <td>.Arkansas</td>\n",
       "      <td>3,067,732</td>\n",
       "    </tr>\n",
       "    <tr>\n",
       "      <th>12</th>\n",
       "      <td>.California</td>\n",
       "      <td>38,965,193</td>\n",
       "    </tr>\n",
       "  </tbody>\n",
       "</table>\n",
       "</div>"
      ],
      "text/plain": [
       "   table with row headers in column A and column headers in rows 3 through 4. (leading dots indicate sub-parts)  \\\n",
       "8                                            .Alabama                                                             \n",
       "9                                             .Alaska                                                             \n",
       "10                                           .Arizona                                                             \n",
       "11                                          .Arkansas                                                             \n",
       "12                                        .California                                                             \n",
       "\n",
       "    Unnamed: 5  \n",
       "8    5,108,468  \n",
       "9      733,406  \n",
       "10   7,431,344  \n",
       "11   3,067,732  \n",
       "12  38,965,193  "
      ]
     },
     "execution_count": 33,
     "metadata": {},
     "output_type": "execute_result"
    }
   ],
   "source": [
    "us_pop_edited = us_population.drop(columns = [\"Unnamed: 1\",\"Unnamed: 2\",\"Unnamed: 3\",\"Unnamed: 4\"])\n",
    "\n",
    "us_pop_states = us_pop_edited.iloc[8:59]\n",
    "us_pop_states.head()"
   ]
  },
  {
   "cell_type": "code",
   "execution_count": 34,
   "id": "bda1d570",
   "metadata": {},
   "outputs": [
    {
     "data": {
      "text/plain": [
       "Index(['table with row headers in column A and column headers in rows 3 through 4. (leading dots indicate sub-parts)', 'Unnamed: 5'], dtype='object')"
      ]
     },
     "execution_count": 34,
     "metadata": {},
     "output_type": "execute_result"
    }
   ],
   "source": [
    "us_pop_states.columns"
   ]
  },
  {
   "cell_type": "markdown",
   "id": "9e722b7e",
   "metadata": {},
   "source": [
    "# Renaming the column names"
   ]
  },
  {
   "cell_type": "code",
   "execution_count": 35,
   "id": "f78bba7d",
   "metadata": {},
   "outputs": [
    {
     "data": {
      "text/html": [
       "<div>\n",
       "<style scoped>\n",
       "    .dataframe tbody tr th:only-of-type {\n",
       "        vertical-align: middle;\n",
       "    }\n",
       "\n",
       "    .dataframe tbody tr th {\n",
       "        vertical-align: top;\n",
       "    }\n",
       "\n",
       "    .dataframe thead th {\n",
       "        text-align: right;\n",
       "    }\n",
       "</style>\n",
       "<table border=\"1\" class=\"dataframe\">\n",
       "  <thead>\n",
       "    <tr style=\"text-align: right;\">\n",
       "      <th></th>\n",
       "      <th>state</th>\n",
       "      <th>pop</th>\n",
       "    </tr>\n",
       "  </thead>\n",
       "  <tbody>\n",
       "    <tr>\n",
       "      <th>8</th>\n",
       "      <td>.Alabama</td>\n",
       "      <td>5,108,468</td>\n",
       "    </tr>\n",
       "    <tr>\n",
       "      <th>9</th>\n",
       "      <td>.Alaska</td>\n",
       "      <td>733,406</td>\n",
       "    </tr>\n",
       "    <tr>\n",
       "      <th>10</th>\n",
       "      <td>.Arizona</td>\n",
       "      <td>7,431,344</td>\n",
       "    </tr>\n",
       "    <tr>\n",
       "      <th>11</th>\n",
       "      <td>.Arkansas</td>\n",
       "      <td>3,067,732</td>\n",
       "    </tr>\n",
       "    <tr>\n",
       "      <th>12</th>\n",
       "      <td>.California</td>\n",
       "      <td>38,965,193</td>\n",
       "    </tr>\n",
       "  </tbody>\n",
       "</table>\n",
       "</div>"
      ],
      "text/plain": [
       "          state         pop\n",
       "8      .Alabama   5,108,468\n",
       "9       .Alaska     733,406\n",
       "10     .Arizona   7,431,344\n",
       "11    .Arkansas   3,067,732\n",
       "12  .California  38,965,193"
      ]
     },
     "execution_count": 35,
     "metadata": {},
     "output_type": "execute_result"
    }
   ],
   "source": [
    "us_pop_states_edited = us_pop_states.rename(columns = {\"table with row headers in column A and column headers in rows 3 through 4. (leading dots indicate sub-parts)\" : \"state\", 'Unnamed: 5':\"pop\"})\n",
    "\n",
    "us_pop_states_edited.head()\n"
   ]
  },
  {
   "cell_type": "markdown",
   "id": "04c169a4",
   "metadata": {},
   "source": [
    "# Here we drop the '.' from the first name of the states.\n"
   ]
  },
  {
   "cell_type": "code",
   "execution_count": 36,
   "id": "6c0bd95e",
   "metadata": {},
   "outputs": [
    {
     "name": "stderr",
     "output_type": "stream",
     "text": [
      "/var/folders/xf/zcm0s5yn7gq0z85v9mzjpg0m0000gp/T/ipykernel_38605/2513838766.py:2: FutureWarning: The default value of regex will change from True to False in a future version. In addition, single character regular expressions will *not* be treated as literal strings when regex=True.\n",
      "  us_pop_states_edited['state'] = us_pop_states_edited[\"state\"].str.replace('.','')\n"
     ]
    }
   ],
   "source": [
    "# drop the . from the state names\n",
    "us_pop_states_edited['state'] = us_pop_states_edited[\"state\"].str.replace('.','')\n",
    "\n",
    "# drop the commas from the numbers\n",
    "us_pop_states_edited['pop']= us_pop_states_edited[\"pop\"].str.replace(',','')\n",
    "jobs_funding['pop']= jobs_funding[\"pop\"].str.replace(',','')\n",
    "\n",
    "# make the pop column integers\n",
    "us_pop_states_edited['pop'] = us_pop_states_edited[\"pop\"].astype(int)\n",
    "\n"
   ]
  },
  {
   "cell_type": "code",
   "execution_count": 37,
   "id": "2ad5ef3d",
   "metadata": {},
   "outputs": [
    {
     "data": {
      "text/html": [
       "<div>\n",
       "<style scoped>\n",
       "    .dataframe tbody tr th:only-of-type {\n",
       "        vertical-align: middle;\n",
       "    }\n",
       "\n",
       "    .dataframe tbody tr th {\n",
       "        vertical-align: top;\n",
       "    }\n",
       "\n",
       "    .dataframe thead th {\n",
       "        text-align: right;\n",
       "    }\n",
       "</style>\n",
       "<table border=\"1\" class=\"dataframe\">\n",
       "  <thead>\n",
       "    <tr style=\"text-align: right;\">\n",
       "      <th></th>\n",
       "      <th>state</th>\n",
       "      <th>pop</th>\n",
       "    </tr>\n",
       "  </thead>\n",
       "  <tbody>\n",
       "    <tr>\n",
       "      <th>8</th>\n",
       "      <td>Alabama</td>\n",
       "      <td>5108468</td>\n",
       "    </tr>\n",
       "    <tr>\n",
       "      <th>9</th>\n",
       "      <td>Alaska</td>\n",
       "      <td>733406</td>\n",
       "    </tr>\n",
       "    <tr>\n",
       "      <th>10</th>\n",
       "      <td>Arizona</td>\n",
       "      <td>7431344</td>\n",
       "    </tr>\n",
       "    <tr>\n",
       "      <th>11</th>\n",
       "      <td>Arkansas</td>\n",
       "      <td>3067732</td>\n",
       "    </tr>\n",
       "    <tr>\n",
       "      <th>12</th>\n",
       "      <td>California</td>\n",
       "      <td>38965193</td>\n",
       "    </tr>\n",
       "  </tbody>\n",
       "</table>\n",
       "</div>"
      ],
      "text/plain": [
       "         state       pop\n",
       "8      Alabama   5108468\n",
       "9       Alaska    733406\n",
       "10     Arizona   7431344\n",
       "11    Arkansas   3067732\n",
       "12  California  38965193"
      ]
     },
     "execution_count": 37,
     "metadata": {},
     "output_type": "execute_result"
    }
   ],
   "source": [
    "us_pop_states_edited.head()"
   ]
  },
  {
   "cell_type": "code",
   "execution_count": 38,
   "id": "bd71b5af",
   "metadata": {},
   "outputs": [
    {
     "data": {
      "text/html": [
       "<div>\n",
       "<style scoped>\n",
       "    .dataframe tbody tr th:only-of-type {\n",
       "        vertical-align: middle;\n",
       "    }\n",
       "\n",
       "    .dataframe tbody tr th {\n",
       "        vertical-align: top;\n",
       "    }\n",
       "\n",
       "    .dataframe thead th {\n",
       "        text-align: right;\n",
       "    }\n",
       "</style>\n",
       "<table border=\"1\" class=\"dataframe\">\n",
       "  <thead>\n",
       "    <tr style=\"text-align: right;\">\n",
       "      <th></th>\n",
       "      <th>state</th>\n",
       "      <th>Total (Billions)</th>\n",
       "      <th>pop</th>\n",
       "      <th>Election</th>\n",
       "    </tr>\n",
       "  </thead>\n",
       "  <tbody>\n",
       "    <tr>\n",
       "      <th>0</th>\n",
       "      <td>ALABAMA</td>\n",
       "      <td>3.0000</td>\n",
       "      <td>NaN</td>\n",
       "      <td>No</td>\n",
       "    </tr>\n",
       "    <tr>\n",
       "      <th>1</th>\n",
       "      <td>ALASKA</td>\n",
       "      <td>3.7000</td>\n",
       "      <td>NaN</td>\n",
       "      <td>No</td>\n",
       "    </tr>\n",
       "    <tr>\n",
       "      <th>2</th>\n",
       "      <td>AMERICAN SAMOA</td>\n",
       "      <td>0.0686</td>\n",
       "      <td>45035</td>\n",
       "      <td>NaN</td>\n",
       "    </tr>\n",
       "    <tr>\n",
       "      <th>3</th>\n",
       "      <td>ARIZONA</td>\n",
       "      <td>3.5000</td>\n",
       "      <td>NaN</td>\n",
       "      <td>Biden</td>\n",
       "    </tr>\n",
       "    <tr>\n",
       "      <th>4</th>\n",
       "      <td>ARKANSAS</td>\n",
       "      <td>2.8000</td>\n",
       "      <td>NaN</td>\n",
       "      <td>No</td>\n",
       "    </tr>\n",
       "  </tbody>\n",
       "</table>\n",
       "</div>"
      ],
      "text/plain": [
       "            state  Total (Billions)    pop Election\n",
       "0         ALABAMA            3.0000    NaN       No\n",
       "1          ALASKA            3.7000    NaN       No\n",
       "2  AMERICAN SAMOA            0.0686  45035      NaN\n",
       "3         ARIZONA            3.5000    NaN    Biden\n",
       "4        ARKANSAS            2.8000    NaN       No"
      ]
     },
     "execution_count": 38,
     "metadata": {},
     "output_type": "execute_result"
    }
   ],
   "source": [
    "jobs_funding.head()"
   ]
  },
  {
   "cell_type": "code",
   "execution_count": 39,
   "id": "5c65ccfe",
   "metadata": {},
   "outputs": [
    {
     "data": {
      "text/html": [
       "<div>\n",
       "<style scoped>\n",
       "    .dataframe tbody tr th:only-of-type {\n",
       "        vertical-align: middle;\n",
       "    }\n",
       "\n",
       "    .dataframe tbody tr th {\n",
       "        vertical-align: top;\n",
       "    }\n",
       "\n",
       "    .dataframe thead th {\n",
       "        text-align: right;\n",
       "    }\n",
       "</style>\n",
       "<table border=\"1\" class=\"dataframe\">\n",
       "  <thead>\n",
       "    <tr style=\"text-align: right;\">\n",
       "      <th></th>\n",
       "      <th>state</th>\n",
       "      <th>pop</th>\n",
       "    </tr>\n",
       "  </thead>\n",
       "  <tbody>\n",
       "    <tr>\n",
       "      <th>8</th>\n",
       "      <td>Alabama</td>\n",
       "      <td>5108468</td>\n",
       "    </tr>\n",
       "    <tr>\n",
       "      <th>9</th>\n",
       "      <td>Alaska</td>\n",
       "      <td>733406</td>\n",
       "    </tr>\n",
       "    <tr>\n",
       "      <th>10</th>\n",
       "      <td>Arizona</td>\n",
       "      <td>7431344</td>\n",
       "    </tr>\n",
       "    <tr>\n",
       "      <th>11</th>\n",
       "      <td>Arkansas</td>\n",
       "      <td>3067732</td>\n",
       "    </tr>\n",
       "    <tr>\n",
       "      <th>12</th>\n",
       "      <td>California</td>\n",
       "      <td>38965193</td>\n",
       "    </tr>\n",
       "  </tbody>\n",
       "</table>\n",
       "</div>"
      ],
      "text/plain": [
       "         state       pop\n",
       "8      Alabama   5108468\n",
       "9       Alaska    733406\n",
       "10     Arizona   7431344\n",
       "11    Arkansas   3067732\n",
       "12  California  38965193"
      ]
     },
     "execution_count": 39,
     "metadata": {},
     "output_type": "execute_result"
    }
   ],
   "source": [
    "us_pop_states_edited.state = us_pop_states_edited.state.str.title()\n",
    "\n",
    "us_pop_states_edited.head()\n"
   ]
  },
  {
   "cell_type": "code",
   "execution_count": 40,
   "id": "0e53cb6e",
   "metadata": {},
   "outputs": [],
   "source": [
    "jobs_funding.state = jobs_funding.state.str.title()"
   ]
  },
  {
   "cell_type": "markdown",
   "id": "cc49a0f0",
   "metadata": {},
   "source": [
    "# Dropping the Territories\n",
    "\n",
    "Deciding whether to include the territories came up relatively soon. I had just gathered all the necessary data to describe them, except for the presidential vote. I understand that the territories are part of the US, but they don't get to vote in the Electoral College. While I had collected this information for the assignment, I decided to exclude them from the final analysis to determine whether they affect President Biden's overall administration.\n"
   ]
  },
  {
   "cell_type": "markdown",
   "id": "53cde632",
   "metadata": {},
   "source": [
    "## Fixing an error in Excel document\n",
    "This was an error found in the excel document with the name of one state.\n",
    "\n"
   ]
  },
  {
   "cell_type": "code",
   "execution_count": 41,
   "id": "84bb2e44",
   "metadata": {},
   "outputs": [
    {
     "data": {
      "text/html": [
       "<div>\n",
       "<style scoped>\n",
       "    .dataframe tbody tr th:only-of-type {\n",
       "        vertical-align: middle;\n",
       "    }\n",
       "\n",
       "    .dataframe tbody tr th {\n",
       "        vertical-align: top;\n",
       "    }\n",
       "\n",
       "    .dataframe thead th {\n",
       "        text-align: right;\n",
       "    }\n",
       "</style>\n",
       "<table border=\"1\" class=\"dataframe\">\n",
       "  <thead>\n",
       "    <tr style=\"text-align: right;\">\n",
       "      <th></th>\n",
       "      <th>state</th>\n",
       "      <th>Total (Billions)</th>\n",
       "      <th>pop</th>\n",
       "      <th>Election</th>\n",
       "    </tr>\n",
       "  </thead>\n",
       "  <tbody>\n",
       "    <tr>\n",
       "      <th>0</th>\n",
       "      <td>Alabama</td>\n",
       "      <td>3.0000</td>\n",
       "      <td>NaN</td>\n",
       "      <td>No</td>\n",
       "    </tr>\n",
       "    <tr>\n",
       "      <th>1</th>\n",
       "      <td>Alaska</td>\n",
       "      <td>3.7000</td>\n",
       "      <td>NaN</td>\n",
       "      <td>No</td>\n",
       "    </tr>\n",
       "    <tr>\n",
       "      <th>2</th>\n",
       "      <td>American Samoa</td>\n",
       "      <td>0.0686</td>\n",
       "      <td>45035</td>\n",
       "      <td>NaN</td>\n",
       "    </tr>\n",
       "    <tr>\n",
       "      <th>3</th>\n",
       "      <td>Arizona</td>\n",
       "      <td>3.5000</td>\n",
       "      <td>NaN</td>\n",
       "      <td>Biden</td>\n",
       "    </tr>\n",
       "    <tr>\n",
       "      <th>4</th>\n",
       "      <td>Arkansas</td>\n",
       "      <td>2.8000</td>\n",
       "      <td>NaN</td>\n",
       "      <td>No</td>\n",
       "    </tr>\n",
       "  </tbody>\n",
       "</table>\n",
       "</div>"
      ],
      "text/plain": [
       "            state  Total (Billions)    pop Election\n",
       "0         Alabama            3.0000    NaN       No\n",
       "1          Alaska            3.7000    NaN       No\n",
       "2  American Samoa            0.0686  45035      NaN\n",
       "3         Arizona            3.5000    NaN    Biden\n",
       "4        Arkansas            2.8000    NaN       No"
      ]
     },
     "execution_count": 41,
     "metadata": {},
     "output_type": "execute_result"
    }
   ],
   "source": [
    "jobs_funding.rename({'Deleware': 'Delaware'}).head()"
   ]
  },
  {
   "cell_type": "code",
   "execution_count": 42,
   "id": "1d7eed74",
   "metadata": {},
   "outputs": [
    {
     "data": {
      "text/html": [
       "<div>\n",
       "<style scoped>\n",
       "    .dataframe tbody tr th:only-of-type {\n",
       "        vertical-align: middle;\n",
       "    }\n",
       "\n",
       "    .dataframe tbody tr th {\n",
       "        vertical-align: top;\n",
       "    }\n",
       "\n",
       "    .dataframe thead th {\n",
       "        text-align: right;\n",
       "    }\n",
       "</style>\n",
       "<table border=\"1\" class=\"dataframe\">\n",
       "  <thead>\n",
       "    <tr style=\"text-align: right;\">\n",
       "      <th></th>\n",
       "      <th>state</th>\n",
       "      <th>Total (Billions)</th>\n",
       "      <th>pop_x</th>\n",
       "      <th>Election</th>\n",
       "      <th>pop_y</th>\n",
       "    </tr>\n",
       "  </thead>\n",
       "  <tbody>\n",
       "    <tr>\n",
       "      <th>0</th>\n",
       "      <td>Alabama</td>\n",
       "      <td>3.0</td>\n",
       "      <td>NaN</td>\n",
       "      <td>No</td>\n",
       "      <td>5108468</td>\n",
       "    </tr>\n",
       "    <tr>\n",
       "      <th>1</th>\n",
       "      <td>Alaska</td>\n",
       "      <td>3.7</td>\n",
       "      <td>NaN</td>\n",
       "      <td>No</td>\n",
       "      <td>733406</td>\n",
       "    </tr>\n",
       "    <tr>\n",
       "      <th>2</th>\n",
       "      <td>Arizona</td>\n",
       "      <td>3.5</td>\n",
       "      <td>NaN</td>\n",
       "      <td>Biden</td>\n",
       "      <td>7431344</td>\n",
       "    </tr>\n",
       "    <tr>\n",
       "      <th>3</th>\n",
       "      <td>Arkansas</td>\n",
       "      <td>2.8</td>\n",
       "      <td>NaN</td>\n",
       "      <td>No</td>\n",
       "      <td>3067732</td>\n",
       "    </tr>\n",
       "    <tr>\n",
       "      <th>4</th>\n",
       "      <td>California</td>\n",
       "      <td>18.4</td>\n",
       "      <td>NaN</td>\n",
       "      <td>Biden</td>\n",
       "      <td>38965193</td>\n",
       "    </tr>\n",
       "  </tbody>\n",
       "</table>\n",
       "</div>"
      ],
      "text/plain": [
       "        state  Total (Billions) pop_x Election     pop_y\n",
       "0     Alabama               3.0   NaN       No   5108468\n",
       "1      Alaska               3.7   NaN       No    733406\n",
       "2     Arizona               3.5   NaN    Biden   7431344\n",
       "3    Arkansas               2.8   NaN       No   3067732\n",
       "4  California              18.4   NaN    Biden  38965193"
      ]
     },
     "execution_count": 42,
     "metadata": {},
     "output_type": "execute_result"
    }
   ],
   "source": [
    "final_jobs = jobs_funding.merge(us_pop_states_edited,how='right', left_on='state', right_on='state')\n",
    "\n",
    "final_jobs.head()\n",
    "# final_jobs"
   ]
  },
  {
   "cell_type": "code",
   "execution_count": 44,
   "id": "8556727f",
   "metadata": {},
   "outputs": [
    {
     "data": {
      "text/plain": [
       "Index(['state', 'Total (Billions)', 'pop_x', 'Election', 'pop_y'], dtype='object')"
      ]
     },
     "execution_count": 44,
     "metadata": {},
     "output_type": "execute_result"
    }
   ],
   "source": [
    "final_jobs.columns\n"
   ]
  },
  {
   "cell_type": "code",
   "execution_count": 46,
   "id": "9018068d",
   "metadata": {},
   "outputs": [],
   "source": [
    "vals = {\"No\": \"Trump\", \"Biden\":\"Biden\"}\n",
    "\n",
    "final_jobs[\"Election\"] = final_jobs[\"Election\"].map(vals)"
   ]
  },
  {
   "cell_type": "code",
   "execution_count": 47,
   "id": "e08374d1",
   "metadata": {},
   "outputs": [
    {
     "data": {
      "text/html": [
       "<div>\n",
       "<style scoped>\n",
       "    .dataframe tbody tr th:only-of-type {\n",
       "        vertical-align: middle;\n",
       "    }\n",
       "\n",
       "    .dataframe tbody tr th {\n",
       "        vertical-align: top;\n",
       "    }\n",
       "\n",
       "    .dataframe thead th {\n",
       "        text-align: right;\n",
       "    }\n",
       "</style>\n",
       "<table border=\"1\" class=\"dataframe\">\n",
       "  <thead>\n",
       "    <tr style=\"text-align: right;\">\n",
       "      <th></th>\n",
       "      <th>state</th>\n",
       "      <th>Total (Billions)</th>\n",
       "      <th>Election</th>\n",
       "      <th>pop_y</th>\n",
       "    </tr>\n",
       "  </thead>\n",
       "  <tbody>\n",
       "    <tr>\n",
       "      <th>0</th>\n",
       "      <td>Alabama</td>\n",
       "      <td>3.0</td>\n",
       "      <td>NaN</td>\n",
       "      <td>5108468</td>\n",
       "    </tr>\n",
       "    <tr>\n",
       "      <th>1</th>\n",
       "      <td>Alaska</td>\n",
       "      <td>3.7</td>\n",
       "      <td>NaN</td>\n",
       "      <td>733406</td>\n",
       "    </tr>\n",
       "    <tr>\n",
       "      <th>2</th>\n",
       "      <td>Arizona</td>\n",
       "      <td>3.5</td>\n",
       "      <td>Biden</td>\n",
       "      <td>7431344</td>\n",
       "    </tr>\n",
       "    <tr>\n",
       "      <th>3</th>\n",
       "      <td>Arkansas</td>\n",
       "      <td>2.8</td>\n",
       "      <td>NaN</td>\n",
       "      <td>3067732</td>\n",
       "    </tr>\n",
       "    <tr>\n",
       "      <th>4</th>\n",
       "      <td>California</td>\n",
       "      <td>18.4</td>\n",
       "      <td>Biden</td>\n",
       "      <td>38965193</td>\n",
       "    </tr>\n",
       "  </tbody>\n",
       "</table>\n",
       "</div>"
      ],
      "text/plain": [
       "        state  Total (Billions) Election     pop_y\n",
       "0     Alabama               3.0      NaN   5108468\n",
       "1      Alaska               3.7      NaN    733406\n",
       "2     Arizona               3.5    Biden   7431344\n",
       "3    Arkansas               2.8      NaN   3067732\n",
       "4  California              18.4    Biden  38965193"
      ]
     },
     "execution_count": 47,
     "metadata": {},
     "output_type": "execute_result"
    }
   ],
   "source": [
    "final_jobs = final_jobs.drop(final_jobs.columns[2], axis=1)\n",
    "\n",
    "final_jobs.head()\n"
   ]
  },
  {
   "cell_type": "markdown",
   "id": "e22be0a0",
   "metadata": {},
   "source": [
    "# Here I managed to get the total Billions divided by the population"
   ]
  },
  {
   "cell_type": "code",
   "execution_count": 15,
   "id": "477884d8",
   "metadata": {},
   "outputs": [],
   "source": [
    "final_jobs['price/citizen'] = final_jobs['Total (Billions)'].map(lambda x: x*1000000000)/final_jobs['pop_y']\n"
   ]
  },
  {
   "cell_type": "code",
   "execution_count": 16,
   "id": "8c3085f1",
   "metadata": {},
   "outputs": [],
   "source": [
    "Biden_won = final_jobs[final_jobs[\"Election\"] == \"Biden\"]\n",
    "Trump_won = final_jobs[final_jobs[\"Election\"] == \"No\"]"
   ]
  },
  {
   "cell_type": "code",
   "execution_count": 17,
   "id": "7664f421",
   "metadata": {},
   "outputs": [
    {
     "data": {
      "text/html": [
       "<div>\n",
       "<style scoped>\n",
       "    .dataframe tbody tr th:only-of-type {\n",
       "        vertical-align: middle;\n",
       "    }\n",
       "\n",
       "    .dataframe tbody tr th {\n",
       "        vertical-align: top;\n",
       "    }\n",
       "\n",
       "    .dataframe thead th {\n",
       "        text-align: right;\n",
       "    }\n",
       "</style>\n",
       "<table border=\"1\" class=\"dataframe\">\n",
       "  <thead>\n",
       "    <tr style=\"text-align: right;\">\n",
       "      <th></th>\n",
       "      <th>state</th>\n",
       "      <th>Total (Billions)</th>\n",
       "      <th>Election</th>\n",
       "      <th>pop_y</th>\n",
       "      <th>price/citizen</th>\n",
       "    </tr>\n",
       "  </thead>\n",
       "  <tbody>\n",
       "    <tr>\n",
       "      <th>1</th>\n",
       "      <td>Alaska</td>\n",
       "      <td>3.7</td>\n",
       "      <td>No</td>\n",
       "      <td>733406</td>\n",
       "      <td>5044.954636</td>\n",
       "    </tr>\n",
       "    <tr>\n",
       "      <th>50</th>\n",
       "      <td>Wyoming</td>\n",
       "      <td>2.3</td>\n",
       "      <td>No</td>\n",
       "      <td>584057</td>\n",
       "      <td>3937.971808</td>\n",
       "    </tr>\n",
       "    <tr>\n",
       "      <th>26</th>\n",
       "      <td>Montana</td>\n",
       "      <td>3.3</td>\n",
       "      <td>No</td>\n",
       "      <td>1132812</td>\n",
       "      <td>2913.104734</td>\n",
       "    </tr>\n",
       "    <tr>\n",
       "      <th>34</th>\n",
       "      <td>North Dakota</td>\n",
       "      <td>1.8</td>\n",
       "      <td>No</td>\n",
       "      <td>783926</td>\n",
       "      <td>2296.135094</td>\n",
       "    </tr>\n",
       "    <tr>\n",
       "      <th>41</th>\n",
       "      <td>South Dakota</td>\n",
       "      <td>1.3</td>\n",
       "      <td>No</td>\n",
       "      <td>919318</td>\n",
       "      <td>1414.091751</td>\n",
       "    </tr>\n",
       "  </tbody>\n",
       "</table>\n",
       "</div>"
      ],
      "text/plain": [
       "           state  Total (Billions) Election    pop_y  price/citizen\n",
       "1         Alaska               3.7       No   733406    5044.954636\n",
       "50       Wyoming               2.3       No   584057    3937.971808\n",
       "26       Montana               3.3       No  1132812    2913.104734\n",
       "34  North Dakota               1.8       No   783926    2296.135094\n",
       "41  South Dakota               1.3       No   919318    1414.091751"
      ]
     },
     "execution_count": 17,
     "metadata": {},
     "output_type": "execute_result"
    }
   ],
   "source": [
    "Trump_won.sort_values(by='price/citizen',ascending=False).head()\n"
   ]
  },
  {
   "cell_type": "markdown",
   "id": "1b5a45d7",
   "metadata": {},
   "source": [
    "# Visual Analytics\n",
    "\n",
    "# I conducted a visual analysis with a pair of data representing the finances of the state. Visually, you might sense a bias; however, after running it through some tests, we can see that there is no bias.\n"
   ]
  },
  {
   "cell_type": "code",
   "execution_count": 18,
   "id": "c15702da",
   "metadata": {},
   "outputs": [
    {
     "data": {
      "image/png": "[encoded data removed]",
      "text/plain": [
       "<Figure size 1000x600 with 1 Axes>"
      ]
     },
     "metadata": {},
     "output_type": "display_data"
    }
   ],
   "source": [
    "plt.figure(figsize=(10, 6))\n",
    "sns.boxplot(x='Election', y='price/citizen', data=final_jobs)\n",
    "plt.title('Box and Whisker Plot of Price per Citizen by Election', fontsize=18, fontweight='bold')\n",
    "plt.xlabel('Election', fontsize=14, fontweight='bold')\n",
    "plt.ylabel('Price per Citizen', fontsize=14, fontweight='bold')\n",
    "\n",
    "plt.text(1.2, 5000, 'Voted for Biden', fontsize=12, color='blue', fontweight='bold')\n",
    "plt.text(0.5, 5000, 'Voted for Trump', fontsize=12, color='red', fontweight='bold')\n",
    "\n",
    "\n",
    "plt.show()\n"
   ]
  },
  {
   "cell_type": "code",
   "execution_count": 19,
   "id": "78c6c3cb",
   "metadata": {},
   "outputs": [
    {
     "ename": "NameError",
     "evalue": "name 'Biden_did_not' is not defined",
     "output_type": "error",
     "traceback": [
      "\u001b[0;31m---------------------------------------------------------------------------\u001b[0m",
      "\u001b[0;31mNameError\u001b[0m                                 Traceback (most recent call last)",
      "Cell \u001b[0;32mIn[19], line 2\u001b[0m\n\u001b[1;32m      1\u001b[0m bw \u001b[38;5;241m=\u001b[39m Biden_won[\u001b[38;5;124m'\u001b[39m\u001b[38;5;124mprice/citizen\u001b[39m\u001b[38;5;124m'\u001b[39m]\n\u001b[0;32m----> 2\u001b[0m bdw \u001b[38;5;241m=\u001b[39m Biden_did_not[\u001b[38;5;124m'\u001b[39m\u001b[38;5;124mprice/citizen\u001b[39m\u001b[38;5;124m'\u001b[39m]\n\u001b[1;32m      4\u001b[0m states_money \u001b[38;5;241m=\u001b[39m final_jobs\u001b[38;5;241m.\u001b[39msort_values(\u001b[38;5;124m'\u001b[39m\u001b[38;5;124mprice/citizen\u001b[39m\u001b[38;5;124m'\u001b[39m)\n\u001b[1;32m      6\u001b[0m states \u001b[38;5;241m=\u001b[39m states_money[\u001b[38;5;124m'\u001b[39m\u001b[38;5;124mstate\u001b[39m\u001b[38;5;124m'\u001b[39m]\n",
      "\u001b[0;31mNameError\u001b[0m: name 'Biden_did_not' is not defined"
     ]
    }
   ],
   "source": [
    "bw = Biden_won['price/citizen']\n",
    "bdw = Biden_did_not['price/citizen']\n",
    "\n",
    "states_money = final_jobs.sort_values('price/citizen')\n",
    "\n",
    "states = states_money['state']\n",
    "funds = states_money['price/citizen']\n",
    "\n"
   ]
  },
  {
   "cell_type": "markdown",
   "id": "7760980d",
   "metadata": {},
   "source": [
    "# It does not appear to be equitable based on the size of the population. The number 1 state is Alaska, not at all high in population, while California is near the bottom of the list. New York is also near the bottom of the list."
   ]
  },
  {
   "cell_type": "code",
   "execution_count": 20,
   "id": "cdfb3fd3",
   "metadata": {},
   "outputs": [
    {
     "ename": "NameError",
     "evalue": "name 'funds' is not defined",
     "output_type": "error",
     "traceback": [
      "\u001b[0;31m---------------------------------------------------------------------------\u001b[0m",
      "\u001b[0;31mNameError\u001b[0m                                 Traceback (most recent call last)",
      "Cell \u001b[0;32mIn[20], line 20\u001b[0m\n\u001b[1;32m     17\u001b[0m plt\u001b[38;5;241m.\u001b[39mfigure(figsize\u001b[38;5;241m=\u001b[39m(\u001b[38;5;241m10\u001b[39m, \u001b[38;5;241m6\u001b[39m))\n\u001b[1;32m     19\u001b[0m \u001b[38;5;66;03m# Create a horizontal bar graph with seaborn\u001b[39;00m\n\u001b[0;32m---> 20\u001b[0m sns\u001b[38;5;241m.\u001b[39mbarplot(x\u001b[38;5;241m=\u001b[39mfunds, y\u001b[38;5;241m=\u001b[39mstates, color\u001b[38;5;241m=\u001b[39m\u001b[38;5;124m'\u001b[39m\u001b[38;5;124mblue\u001b[39m\u001b[38;5;124m'\u001b[39m)\n\u001b[1;32m     22\u001b[0m \u001b[38;5;66;03m# Add labels and title\u001b[39;00m\n\u001b[1;32m     23\u001b[0m plt\u001b[38;5;241m.\u001b[39mxlabel(\u001b[38;5;124m'\u001b[39m\u001b[38;5;124mFunds\u001b[39m\u001b[38;5;124m'\u001b[39m, fontsize\u001b[38;5;241m=\u001b[39m\u001b[38;5;241m20\u001b[39m)\n",
      "\u001b[0;31mNameError\u001b[0m: name 'funds' is not defined"
     ]
    },
    {
     "data": {
      "text/plain": [
       "<Figure size 1000x600 with 0 Axes>"
      ]
     },
     "metadata": {},
     "output_type": "display_data"
    }
   ],
   "source": [
    "# plt.figure(figsize=(10, 6))\n",
    "\n",
    "# # Create a bar graph with seaborn\n",
    "# sns.barplot(x=states, y=funds, color='blue')\n",
    "\n",
    "# # Add labels and title\n",
    "# plt.xlabel('States', fontsize=20)\n",
    "# plt.ylabel('Funds', fontsize=20)\n",
    "# plt.title('Funds per State', fontsize=16,fontweight='bold')\n",
    "\n",
    "# plt.xticks(rotation=80)\n",
    "# plt.tick_params(axis='x', labelsize=10)\n",
    "\n",
    "# # Display the graph\n",
    "# plt.show()\n",
    "\n",
    "plt.figure(figsize=(10, 6))\n",
    "\n",
    "# Create a horizontal bar graph with seaborn\n",
    "sns.barplot(x=funds, y=states, color='blue')\n",
    "\n",
    "# Add labels and title\n",
    "plt.xlabel('Funds', fontsize=20)\n",
    "plt.ylabel('States', fontsize=20)\n",
    "plt.title('Funds per State', fontsize=16, fontweight='bold')\n",
    "\n",
    "plt.yticks(rotation=0)\n",
    "plt.tick_params(axis='y', labelsize=8)\n",
    "\n",
    "# Display the graph\n",
    "plt.show()"
   ]
  },
  {
   "cell_type": "markdown",
   "id": "5fcfcd7f",
   "metadata": {},
   "source": [
    "# We can see here that although there is a slight bias with a p-value of 0.056, it does not fall within the range to be a statistically significant value. It's very close, and perhaps that's what we observe in the box-whisker plot, but not quite.\n",
    "\n"
   ]
  },
  {
   "cell_type": "code",
   "execution_count": 21,
   "id": "fa887b52",
   "metadata": {},
   "outputs": [
    {
     "ename": "NameError",
     "evalue": "name 'bdw' is not defined",
     "output_type": "error",
     "traceback": [
      "\u001b[0;31m---------------------------------------------------------------------------\u001b[0m",
      "\u001b[0;31mNameError\u001b[0m                                 Traceback (most recent call last)",
      "Cell \u001b[0;32mIn[21], line 1\u001b[0m\n\u001b[0;32m----> 1\u001b[0m t_stat, p_value \u001b[38;5;241m=\u001b[39m stats\u001b[38;5;241m.\u001b[39mttest_ind(bdw, bw)\n\u001b[1;32m      3\u001b[0m \u001b[38;5;28mprint\u001b[39m(\u001b[38;5;124mf\u001b[39m\u001b[38;5;124m'\u001b[39m\u001b[38;5;124mT-statistic: \u001b[39m\u001b[38;5;132;01m{\u001b[39;00mt_stat\u001b[38;5;132;01m}\u001b[39;00m\u001b[38;5;124m'\u001b[39m)\n\u001b[1;32m      4\u001b[0m \u001b[38;5;28mprint\u001b[39m(\u001b[38;5;124mf\u001b[39m\u001b[38;5;124m'\u001b[39m\u001b[38;5;124mP-value: \u001b[39m\u001b[38;5;132;01m{\u001b[39;00mp_value\u001b[38;5;132;01m}\u001b[39;00m\u001b[38;5;124m'\u001b[39m)\n",
      "\u001b[0;31mNameError\u001b[0m: name 'bdw' is not defined"
     ]
    }
   ],
   "source": [
    "t_stat, p_value = stats.ttest_ind(bdw, bw)\n",
    "\n",
    "print(f'T-statistic: {t_stat}')\n",
    "print(f'P-value: {p_value}')\n",
    "\n",
    "alpha = 0.05\n",
    "if p_value < alpha:\n",
    "    print('The difference is statistically significant (reject the null hypothesis)')\n",
    "else:\n",
    "    print('The difference is not statistically significant (fail to reject the null hypothesis)')\n"
   ]
  },
  {
   "cell_type": "markdown",
   "id": "40fc171c",
   "metadata": {},
   "source": [
    "# Here, we can see that there is a significant gap in the money allocated to the top 5 states, with a large portion going to states that did not vote for Biden. However, it's not a significant point of interest, as the bottom 5 states also demonstrate a similar pattern, with 3 of them not voting for Biden."
   ]
  },
  {
   "cell_type": "code",
   "execution_count": 22,
   "id": "0bf3f747",
   "metadata": {},
   "outputs": [
    {
     "data": {
      "text/html": [
       "<div>\n",
       "<style scoped>\n",
       "    .dataframe tbody tr th:only-of-type {\n",
       "        vertical-align: middle;\n",
       "    }\n",
       "\n",
       "    .dataframe tbody tr th {\n",
       "        vertical-align: top;\n",
       "    }\n",
       "\n",
       "    .dataframe thead th {\n",
       "        text-align: right;\n",
       "    }\n",
       "</style>\n",
       "<table border=\"1\" class=\"dataframe\">\n",
       "  <thead>\n",
       "    <tr style=\"text-align: right;\">\n",
       "      <th></th>\n",
       "      <th>state</th>\n",
       "      <th>Total (Billions)</th>\n",
       "      <th>Election</th>\n",
       "      <th>pop_y</th>\n",
       "      <th>price/citizen</th>\n",
       "    </tr>\n",
       "  </thead>\n",
       "  <tbody>\n",
       "    <tr>\n",
       "      <th>1</th>\n",
       "      <td>Alaska</td>\n",
       "      <td>3.7</td>\n",
       "      <td>No</td>\n",
       "      <td>733406</td>\n",
       "      <td>5044.954636</td>\n",
       "    </tr>\n",
       "    <tr>\n",
       "      <th>50</th>\n",
       "      <td>Wyoming</td>\n",
       "      <td>2.3</td>\n",
       "      <td>No</td>\n",
       "      <td>584057</td>\n",
       "      <td>3937.971808</td>\n",
       "    </tr>\n",
       "    <tr>\n",
       "      <th>26</th>\n",
       "      <td>Montana</td>\n",
       "      <td>3.3</td>\n",
       "      <td>No</td>\n",
       "      <td>1132812</td>\n",
       "      <td>2913.104734</td>\n",
       "    </tr>\n",
       "    <tr>\n",
       "      <th>34</th>\n",
       "      <td>North Dakota</td>\n",
       "      <td>1.8</td>\n",
       "      <td>No</td>\n",
       "      <td>783926</td>\n",
       "      <td>2296.135094</td>\n",
       "    </tr>\n",
       "    <tr>\n",
       "      <th>8</th>\n",
       "      <td>District Of Columbia</td>\n",
       "      <td>1.1</td>\n",
       "      <td>Biden</td>\n",
       "      <td>678972</td>\n",
       "      <td>1620.096263</td>\n",
       "    </tr>\n",
       "  </tbody>\n",
       "</table>\n",
       "</div>"
      ],
      "text/plain": [
       "                   state  Total (Billions) Election    pop_y  price/citizen\n",
       "1                 Alaska               3.7       No   733406    5044.954636\n",
       "50               Wyoming               2.3       No   584057    3937.971808\n",
       "26               Montana               3.3       No  1132812    2913.104734\n",
       "34          North Dakota               1.8       No   783926    2296.135094\n",
       "8   District Of Columbia               1.1    Biden   678972    1620.096263"
      ]
     },
     "execution_count": 22,
     "metadata": {},
     "output_type": "execute_result"
    }
   ],
   "source": [
    "final_sorted = final_jobs.sort_values(by='price/citizen',ascending=False)\n",
    "final_sorted.head(5)\n",
    "\n"
   ]
  },
  {
   "cell_type": "code",
   "execution_count": 23,
   "id": "4cdbe71e",
   "metadata": {},
   "outputs": [
    {
     "data": {
      "text/html": [
       "<div>\n",
       "<style scoped>\n",
       "    .dataframe tbody tr th:only-of-type {\n",
       "        vertical-align: middle;\n",
       "    }\n",
       "\n",
       "    .dataframe tbody tr th {\n",
       "        vertical-align: top;\n",
       "    }\n",
       "\n",
       "    .dataframe thead th {\n",
       "        text-align: right;\n",
       "    }\n",
       "</style>\n",
       "<table border=\"1\" class=\"dataframe\">\n",
       "  <thead>\n",
       "    <tr style=\"text-align: right;\">\n",
       "      <th></th>\n",
       "      <th>state</th>\n",
       "      <th>Total (Billions)</th>\n",
       "      <th>Election</th>\n",
       "      <th>pop_y</th>\n",
       "      <th>price/citizen</th>\n",
       "    </tr>\n",
       "  </thead>\n",
       "  <tbody>\n",
       "    <tr>\n",
       "      <th>10</th>\n",
       "      <td>Georgia</td>\n",
       "      <td>5.0</td>\n",
       "      <td>Biden</td>\n",
       "      <td>11029227</td>\n",
       "      <td>453.340928</td>\n",
       "    </tr>\n",
       "    <tr>\n",
       "      <th>20</th>\n",
       "      <td>Maryland</td>\n",
       "      <td>2.7</td>\n",
       "      <td>Biden</td>\n",
       "      <td>6180253</td>\n",
       "      <td>436.875319</td>\n",
       "    </tr>\n",
       "    <tr>\n",
       "      <th>40</th>\n",
       "      <td>South Carolina</td>\n",
       "      <td>2.3</td>\n",
       "      <td>No</td>\n",
       "      <td>5373555</td>\n",
       "      <td>428.022045</td>\n",
       "    </tr>\n",
       "    <tr>\n",
       "      <th>33</th>\n",
       "      <td>North Carolina</td>\n",
       "      <td>4.5</td>\n",
       "      <td>No</td>\n",
       "      <td>10835491</td>\n",
       "      <td>415.301900</td>\n",
       "    </tr>\n",
       "    <tr>\n",
       "      <th>9</th>\n",
       "      <td>Florida</td>\n",
       "      <td>8.2</td>\n",
       "      <td>No</td>\n",
       "      <td>22610726</td>\n",
       "      <td>362.659739</td>\n",
       "    </tr>\n",
       "  </tbody>\n",
       "</table>\n",
       "</div>"
      ],
      "text/plain": [
       "             state  Total (Billions) Election     pop_y  price/citizen\n",
       "10         Georgia               5.0    Biden  11029227     453.340928\n",
       "20        Maryland               2.7    Biden   6180253     436.875319\n",
       "40  South Carolina               2.3       No   5373555     428.022045\n",
       "33  North Carolina               4.5       No  10835491     415.301900\n",
       "9          Florida               8.2       No  22610726     362.659739"
      ]
     },
     "execution_count": 23,
     "metadata": {},
     "output_type": "execute_result"
    }
   ],
   "source": [
    "\n",
    "final_sorted.tail(5)"
   ]
  },
  {
   "cell_type": "markdown",
   "id": "2471505a",
   "metadata": {},
   "source": [
    "# We also ran a histogram to examine the distribution of money among the states, in case we could pinpoint an area where there was a significant difference. Here, we can clearly see that in the states where Biden lost, the difference is prominently visible, with an extremely high frequency per state."
   ]
  },
  {
   "cell_type": "code",
   "execution_count": 24,
   "id": "2a9ba48e",
   "metadata": {},
   "outputs": [
    {
     "ename": "NameError",
     "evalue": "name 'bdw' is not defined",
     "output_type": "error",
     "traceback": [
      "\u001b[0;31m---------------------------------------------------------------------------\u001b[0m",
      "\u001b[0;31mNameError\u001b[0m                                 Traceback (most recent call last)",
      "Cell \u001b[0;32mIn[24], line 3\u001b[0m\n\u001b[1;32m      1\u001b[0m plt\u001b[38;5;241m.\u001b[39mfigure(figsize\u001b[38;5;241m=\u001b[39m(\u001b[38;5;241m12\u001b[39m, \u001b[38;5;241m6\u001b[39m))\n\u001b[1;32m      2\u001b[0m sns\u001b[38;5;241m.\u001b[39mhistplot(data\u001b[38;5;241m=\u001b[39mbw, color\u001b[38;5;241m=\u001b[39m\u001b[38;5;124m'\u001b[39m\u001b[38;5;124mblue\u001b[39m\u001b[38;5;124m'\u001b[39m, bins \u001b[38;5;241m=\u001b[39m \u001b[38;5;241m25\u001b[39m, alpha\u001b[38;5;241m=\u001b[39m\u001b[38;5;241m0.5\u001b[39m, common_norm\u001b[38;5;241m=\u001b[39m\u001b[38;5;28;01mFalse\u001b[39;00m, label\u001b[38;5;241m=\u001b[39m\u001b[38;5;124m'\u001b[39m\u001b[38;5;124mBiden Won\u001b[39m\u001b[38;5;124m'\u001b[39m)\n\u001b[0;32m----> 3\u001b[0m sns\u001b[38;5;241m.\u001b[39mhistplot(data\u001b[38;5;241m=\u001b[39mbdw, color\u001b[38;5;241m=\u001b[39m\u001b[38;5;124m'\u001b[39m\u001b[38;5;124mgreen\u001b[39m\u001b[38;5;124m'\u001b[39m, bins \u001b[38;5;241m=\u001b[39m \u001b[38;5;241m30\u001b[39m,alpha\u001b[38;5;241m=\u001b[39m\u001b[38;5;241m0.5\u001b[39m, common_norm\u001b[38;5;241m=\u001b[39m\u001b[38;5;28;01mFalse\u001b[39;00m, label\u001b[38;5;241m=\u001b[39m\u001b[38;5;124m'\u001b[39m\u001b[38;5;124mBiden Lost\u001b[39m\u001b[38;5;124m'\u001b[39m)\n\u001b[1;32m      5\u001b[0m plt\u001b[38;5;241m.\u001b[39mtitle(\u001b[38;5;124m'\u001b[39m\u001b[38;5;124mHistograms of Biden\u001b[39m\u001b[38;5;130;01m\\'\u001b[39;00m\u001b[38;5;124ms win/lose\u001b[39m\u001b[38;5;124m'\u001b[39m, fontsize\u001b[38;5;241m=\u001b[39m\u001b[38;5;241m18\u001b[39m, fontweight\u001b[38;5;241m=\u001b[39m\u001b[38;5;124m'\u001b[39m\u001b[38;5;124mbold\u001b[39m\u001b[38;5;124m'\u001b[39m)\n\u001b[1;32m      6\u001b[0m plt\u001b[38;5;241m.\u001b[39mxlabel(\u001b[38;5;124m'\u001b[39m\u001b[38;5;124mValues\u001b[39m\u001b[38;5;124m'\u001b[39m, fontsize\u001b[38;5;241m=\u001b[39m\u001b[38;5;241m14\u001b[39m, fontweight\u001b[38;5;241m=\u001b[39m\u001b[38;5;124m'\u001b[39m\u001b[38;5;124mbold\u001b[39m\u001b[38;5;124m'\u001b[39m)\n",
      "\u001b[0;31mNameError\u001b[0m: name 'bdw' is not defined"
     ]
    },
    {
     "data": {
      "image/png": "[encoded data removed]",
      "text/plain": [
       "<Figure size 1200x600 with 1 Axes>"
      ]
     },
     "metadata": {},
     "output_type": "display_data"
    }
   ],
   "source": [
    "plt.figure(figsize=(12, 6))\n",
    "sns.histplot(data=bw, color='blue', bins = 25, alpha=0.5, common_norm=False, label='Biden Won')\n",
    "sns.histplot(data=bdw, color='green', bins = 30,alpha=0.5, common_norm=False, label='Biden Lost')\n",
    "\n",
    "plt.title('Histograms of Biden\\'s win/lose', fontsize=18, fontweight='bold')\n",
    "plt.xlabel('Values', fontsize=14, fontweight='bold')\n",
    "plt.ylabel('Frequency', fontsize=14, fontweight='bold')\n",
    "plt.legend(fontsize='large')\n",
    "plt.show()\n"
   ]
  },
  {
   "cell_type": "markdown",
   "id": "5f1e1b9b",
   "metadata": {},
   "source": [
    "# Conclusion\n",
    "\n",
    "Revisiting the questions that were posed:\n",
    "\n",
    "# Is the allocation equitable based on the population of each of the States and Territories, or is bias apparent?\n",
    "\n",
    "No, it is not equitable based on the population of the United States. When examining the funding per state, it is evident that Alaska, with a relatively small population, ranks as the number 1 state, while populous states like California and New York are near the bottom of the list. There is no apparent bias.\n",
    "\n",
    "# Does the allocation favor the political interests of the Biden administration?\n",
    "\n",
    "No, it does not favor the political interests of the Biden Administration. Although it may appear biased when looking at the graphs, the numbers do not support the presence of bias in the Biden Administration's allocation.\n"
   ]
  },
  {
   "cell_type": "code",
   "execution_count": null,
   "id": "a80ccfcb",
   "metadata": {},
   "outputs": [],
   "source": []
  },
  {
   "cell_type": "code",
   "execution_count": null,
   "id": "9b0aa1e6",
   "metadata": {},
   "outputs": [],
   "source": []
  },
  {
   "cell_type": "code",
   "execution_count": null,
   "id": "09cb9157",
   "metadata": {},
   "outputs": [],
   "source": []
  }
 ],
 "metadata": {
  "kernelspec": {
   "display_name": "Python 3 (ipykernel)",
   "language": "python",
   "name": "python3"
  },
  "language_info": {
   "codemirror_mode": {
    "name": "ipython",
    "version": 3
   },
   "file_extension": ".py",
   "mimetype": "text/x-python",
   "name": "python",
   "nbconvert_exporter": "python",
   "pygments_lexer": "ipython3",
   "version": "3.11.4"
  }
 },
 "nbformat": 4,
 "nbformat_minor": 5
}
