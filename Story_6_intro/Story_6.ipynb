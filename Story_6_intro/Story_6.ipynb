{
 "cells": [
  {
   "cell_type": "markdown",
   "id": "9f47b504",
   "metadata": {},
   "source": [
    "### Joe Garcia\n",
    "### DATA 608 \n",
    "### 5/5/2024\n",
    "\n",
    "# Introduction\n",
    "\n",
    "The United Nations Food and Agriculture Organization publication, The State of Food Security and Nutrition in the World 2022 (https://www.fao.org/documents/card/en/c/cc0639en) might lead one to the conclusion that it's an elsewhere problem. That the people who are suffering malnutrition and starvation are \"elsewhere\", not in our backyard. For this assignment you will need to take a closer look here at home (the US)\n",
    "Notes:\n",
    "You will need to locate and source data that reflects food security and nutrition by state broken down by men, women, children and by age groups\n",
    "\n",
    "Your analysis should demonstrate correlations that exist between level of poverty and food insecurity, malnutrition and starvation.\n",
    "\n",
    "Your data and analysis should also indicate what happens to the children as they mature into adults. Will they become fully functional citizens or will they require continued support?\n",
    "\n",
    "You data visualizations need to tell the story for a political audience that you were lobbying to address the issue of food insecurity in the US\n",
    "\n",
    "This assignment is due at the end of the week twelve of the semester."
   ]
  },
  {
   "cell_type": "markdown",
   "id": "9a4d5752",
   "metadata": {},
   "source": [
    "# Questions posed:"
   ]
  },
  {
   "cell_type": "markdown",
   "id": "045afacd",
   "metadata": {},
   "source": [
    "# Data Used and Sources"
   ]
  },
  {
   "cell_type": "markdown",
   "id": "9a9dd8c0",
   "metadata": {},
   "source": [
    "# Analyzation"
   ]
  },
  {
   "cell_type": "markdown",
   "id": "f0201e75",
   "metadata": {},
   "source": [
    "# Conclusion"
   ]
  },
  {
   "cell_type": "code",
   "execution_count": null,
   "id": "d9f635db",
   "metadata": {},
   "outputs": [],
   "source": []
  }
 ],
 "metadata": {
  "kernelspec": {
   "display_name": "Python 3 (ipykernel)",
   "language": "python",
   "name": "python3"
  },
  "language_info": {
   "codemirror_mode": {
    "name": "ipython",
    "version": 3
   },
   "file_extension": ".py",
   "mimetype": "text/x-python",
   "name": "python",
   "nbconvert_exporter": "python",
   "pygments_lexer": "ipython3",
   "version": "3.11.4"
  }
 },
 "nbformat": 4,
 "nbformat_minor": 5
}
