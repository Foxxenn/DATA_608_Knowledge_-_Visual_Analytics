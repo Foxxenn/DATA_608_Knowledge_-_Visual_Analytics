{
 "cells": [
  {
   "cell_type": "markdown",
   "id": "149df0cf",
   "metadata": {},
   "source": [
    "### Joe Garcia\n",
    "### DATA 608 \n",
    "### 3/14/2024\n",
    "\n",
    "# Introduction: Data Practitioner\n",
    " have introduced the term \"Data Practitioner\" as a generic job descriptor because we have so many different job role titles for individuals whose work activities overlap including Data Scientist, Data Engineer, Data Analyst, Business Analyst, Data Architect, etc.\n",
    "For this story we will answer the question, \"How much do we get paid?\" Your analysis and data visualizations must address the variation in average salary based on role descriptor and state.\n",
    "Notes:\n",
    "You will need to identify reliable sources for salary data and assemble the data sets that you will need.\n",
    "\n",
    "Your visualization(s) must show the most salient information (variation in average salary by role and by state).\n",
    "\n",
    "For this Story you must use a code library and code that you have written in R, Python or Java Script (additional coding in other languages is allowed).\n",
    "\n",
    "Post generation enhancements to you generated visualization will be allowed (e.g. Addition of kickers and labels).\n",
    "\n",
    "This assignment is due at the end of the week eight of the semester.\n",
    "\n",
    "In this analysis, we examine the salaries for various jobs within the data field. The field of data encompasses numerous domains, and to facilitate our examination of the different roles within this field, we introduce the term 'Data Practitioner'. The term \"Data Practitioner\" could mean any of these roles: Data Scientist, Data Engineer, Data Analyst, Business Analyst, Data Architect, and others. Our analysis focuses on determining the compensation for each role and identifying any overlap in salaries between them.\n"
   ]
  },
  {
   "cell_type": "markdown",
   "id": "0cb4d5ff",
   "metadata": {},
   "source": [
    "# Questions posed\n",
    "\n",
    "We will answering "
   ]
  },
  {
   "cell_type": "markdown",
   "id": "f7904d17",
   "metadata": {},
   "source": [
    "# Data used and sources"
   ]
  },
  {
   "cell_type": "markdown",
   "id": "62fadcbb",
   "metadata": {},
   "source": [
    "# Transformation and Cleaning"
   ]
  },
  {
   "cell_type": "markdown",
   "id": "851bc648",
   "metadata": {},
   "source": [
    "# Analyzation "
   ]
  },
  {
   "cell_type": "markdown",
   "id": "8f026e56",
   "metadata": {},
   "source": [
    "# Conclusion"
   ]
  },
  {
   "cell_type": "code",
   "execution_count": null,
   "id": "9388a9bc",
   "metadata": {},
   "outputs": [],
   "source": []
  },
  {
   "cell_type": "code",
   "execution_count": null,
   "id": "6c10c59c",
   "metadata": {},
   "outputs": [],
   "source": []
  }
 ],
 "metadata": {
  "kernelspec": {
   "display_name": "Python 3 (ipykernel)",
   "language": "python",
   "name": "python3"
  },
  "language_info": {
   "codemirror_mode": {
    "name": "ipython",
    "version": 3
   },
   "file_extension": ".py",
   "mimetype": "text/x-python",
   "name": "python",
   "nbconvert_exporter": "python",
   "pygments_lexer": "ipython3",
   "version": "3.11.4"
  }
 },
 "nbformat": 4,
 "nbformat_minor": 5
}
